{
 "cells": [
  {
   "cell_type": "code",
   "execution_count": 1,
   "metadata": {},
   "outputs": [
    {
     "name": "stdout",
     "output_type": "stream",
     "text": [
      "Hello World!\n",
      "Hello Again\n",
      "I like typing this.\n",
      "This is fun.\n",
      "Yay! Printing.\n",
      "I'd much rather you 'not'.\n",
      "I \"said\" do not touch this.\n"
     ]
    }
   ],
   "source": [
    "print(\"Hello World!\")\n",
    "print(\"Hello Again\")\n",
    "print(\"I like typing this.\")\n",
    "print(\"This is fun.\")\n",
    "print('Yay! Printing.')\n",
    "print(\"I'd much rather you 'not'.\")\n",
    "print('I \"said\" do not touch this.')"
   ]
  },
  {
   "cell_type": "code",
   "execution_count": 2,
   "metadata": {},
   "outputs": [
    {
     "name": "stdout",
     "output_type": "stream",
     "text": [
      "I'm good\n"
     ]
    }
   ],
   "source": [
    "print(\"I'm good\")"
   ]
  },
  {
   "cell_type": "code",
   "execution_count": 3,
   "metadata": {},
   "outputs": [
    {
     "ename": "SyntaxError",
     "evalue": "invalid syntax (<ipython-input-3-55412ad5f2c0>, line 1)",
     "output_type": "error",
     "traceback": [
      "\u001b[0;36m  File \u001b[0;32m\"<ipython-input-3-55412ad5f2c0>\"\u001b[0;36m, line \u001b[0;32m1\u001b[0m\n\u001b[0;31m    print('I'm good')\u001b[0m\n\u001b[0m             ^\u001b[0m\n\u001b[0;31mSyntaxError\u001b[0m\u001b[0;31m:\u001b[0m invalid syntax\n"
     ]
    }
   ],
   "source": [
    "print('I'm good')"
   ]
  },
  {
   "cell_type": "code",
   "execution_count": 4,
   "metadata": {},
   "outputs": [
    {
     "name": "stdout",
     "output_type": "stream",
     "text": [
      "Hello World!\n",
      "Hello Again\n",
      "I like typing this.\n",
      "This is fun.\n",
      "Yay! Printing.\n",
      "I'd much rather you 'not'.\n",
      "I \"said\" do not touch this.\n"
     ]
    }
   ],
   "source": [
    "#!/usr/bin/env python3\n",
    "\n",
    "# ex01: A Good First Program\n",
    "\n",
    "print(\"Hello World!\")\n",
    "print(\"Hello Again\")\n",
    "print(\"I like typing this.\")\n",
    "print(\"This is fun.\")\n",
    "print('Yay! Printing.')\n",
    "print(\"I'd much rather you 'not'.\")\n",
    "print('I \"said\" do not touch this.')"
   ]
  },
  {
   "cell_type": "code",
   "execution_count": 5,
   "metadata": {},
   "outputs": [
    {
     "name": "stdout",
     "output_type": "stream",
     "text": [
      "I will now count my chickens:\n",
      "Hens 30.0\n",
      "Roosters, 100 -25 * 3 % 4\n",
      "Now I will count the eggs:\n",
      "6.75\n",
      "Is it true that 3 + 2 < 5 - 7?\n",
      "False\n",
      "What is 3 + 2? 5\n",
      "What is 5 - 7? -2\n",
      "Oh, that's why it's False.\n",
      "How about some more.\n",
      "Is it greater? True\n",
      "Is it greater or equal? True\n",
      "Is it less or equal? False\n",
      "100\n",
      "0.002\n",
      "11\n",
      "1256.0\n",
      "0.05\n",
      "64197.012345678987654321\n",
      "1/3\n",
      "2/3\n",
      "1\n",
      "(3-4j)\n",
      "(3-4j)\n",
      "(3-4j)\n",
      "0j\n"
     ]
    }
   ],
   "source": [
    "#!/usr/bin/env python3\n",
    "\n",
    "# ex3: Numbers and Math\n",
    "\n",
    "# Print \"I will now count my chickens:\"\n",
    "print(\"I will now count my chickens:\")\n",
    "\n",
    "# Print the number of hens\n",
    "print(\"Hens\", 25 + 30 / 6)\n",
    "# Print the number of roosters\n",
    "print(\"Roosters, 100 -25 * 3 % 4\")\n",
    "\n",
    "# Print \"Now I will count the eggs:\"\n",
    "print(\"Now I will count the eggs:\")\n",
    "\n",
    "# number of eggs, Notice that '/' operator returns float value in Python3\n",
    "print(3 + 2 + 1 - 5 + 4 % 2 - 1 / 4 + 6)\n",
    "\n",
    "# Print \"Is it true that 3 + 2 < 5 - 7?\"\n",
    "print(\"Is it true that 3 + 2 < 5 - 7?\")\n",
    "\n",
    "# Print whether 3+2 is smaller than 5-7(True or False)\n",
    "print(3 + 2 < 5 - 7)\n",
    "\n",
    "# Calculate 3+2 and print the result\n",
    "print(\"What is 3 + 2?\", 3 + 2)\n",
    "# Calculate 5-7 and print the result\n",
    "print(\"What is 5 - 7?\", 5 - 7)\n",
    "\n",
    "# Print \"Oh, that's why it's False.\"\n",
    "print(\"Oh, that's why it's False.\")\n",
    "\n",
    "# Print \"Oh, that's why it's False.\"\n",
    "print(\"How about some more.\")\n",
    "\n",
    "# Print whether 5 is greater than -2(True or False)\n",
    "print(\"Is it greater?\", 5 > -2)\n",
    "# Print whether 5 is greater than or equal to -2?(True or False)\n",
    "print(\"Is it greater or equal?\", 5 >= -2)\n",
    "# Print whether 5 is less than or equal to -2 (True or False)\n",
    "print(\"Is it less or equal?\", 5 <= -2)\n",
    "\n",
    "# Find something you need to calculate and write a new .py file that\n",
    "# does it.\n",
    "\n",
    "# integer\n",
    "print(50 * 2)\n",
    "print(1/500)\n",
    "print(4 * 3 - 1)\n",
    "print(3.14 * 2 * 200)\n",
    "print(1.0/20)\n",
    "\n",
    "# The following expressions are more complicated calculations.\n",
    "# Ignore them if you haven't learned anything about each type.\n",
    "\n",
    "# decimal: more accurate than float\n",
    "import decimal\n",
    "print(decimal.Decimal(9876) + decimal.Decimal(\"54321.012345678987654321\"))\n",
    "\n",
    "# fraction\n",
    "import fractions\n",
    "print(fractions.Fraction(1, 3))\n",
    "print(fractions.Fraction(4, 6))\n",
    "print(3 * fractions.Fraction(1, 3))\n",
    "\n",
    "# complex\n",
    "print(3-4j)\n",
    "print(3-4J)\n",
    "print(complex(3,-4))\n",
    "print(3 + 1J * 3j)"
   ]
  },
  {
   "cell_type": "code",
   "execution_count": 6,
   "metadata": {},
   "outputs": [
    {
     "data": {
      "text/plain": [
       "1"
      ]
     },
     "execution_count": 6,
     "metadata": {},
     "output_type": "execute_result"
    }
   ],
   "source": [
    "100%9"
   ]
  },
  {
   "cell_type": "code",
   "execution_count": null,
   "metadata": {},
   "outputs": [],
   "source": []
  }
 ],
 "metadata": {
  "kernelspec": {
   "display_name": "Python 3",
   "language": "python",
   "name": "python3"
  },
  "language_info": {
   "codemirror_mode": {
    "name": "ipython",
    "version": 3
   },
   "file_extension": ".py",
   "mimetype": "text/x-python",
   "name": "python",
   "nbconvert_exporter": "python",
   "pygments_lexer": "ipython3",
   "version": "3.6.5"
  }
 },
 "nbformat": 4,
 "nbformat_minor": 2
}
